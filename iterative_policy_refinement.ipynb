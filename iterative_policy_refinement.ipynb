{
  "nbformat": 4,
  "nbformat_minor": 0,
  "metadata": {
    "colab": {
      "provenance": []
    },
    "kernelspec": {
      "name": "python3",
      "display_name": "Python 3"
    },
    "language_info": {
      "name": "python"
    }
  },
  "cells": [
    {
      "cell_type": "code",
      "execution_count": 1,
      "metadata": {
        "id": "rx6dSQa2LItO"
      },
      "outputs": [],
      "source": [
        "import numpy as np\n",
        "\n",
        "try:\n",
        "  from omlt.io.onnx import load_onnx_neural_network_with_bounds\n",
        "  from omlt.neuralnet import FullSpaceNNFormulation\n",
        "  from omlt import OmltBlock\n",
        "  import pyomo.environ as pyo\n",
        "  from pyomo.core import *\n",
        "except:\n",
        "  print('Installing omlt')\n",
        "  !pip -qqq install omlt\n",
        "  print('Installing onnx')\n",
        "  !pip -qqq install onnx\n",
        "  print('Installing pyomo')\n",
        "  !pip -qqq install pyomo\n",
        "  from omlt.io.onnx import load_onnx_neural_network_with_bounds\n",
        "  from omlt.neuralnet import FullSpaceNNFormulation\n",
        "  import pyomo.environ as pyo\n",
        "  from pyomo.core import *\n",
        "  from omlt import OmltBlock"
      ]
    },
    {
      "cell_type": "code",
      "source": [
        "network_definition = load_onnx_neural_network_with_bounds('/content/SAC_Discrete_actor_network.onnx')"
      ],
      "metadata": {
        "id": "M14Q0_GiOqM4"
      },
      "execution_count": 2,
      "outputs": []
    },
    {
      "cell_type": "code",
      "source": [
        "for layer_id, layer in enumerate(network_definition.layers):\n",
        "    print(f\"{layer_id}\\t{layer}\\t{layer.activation}\")"
      ],
      "metadata": {
        "colab": {
          "base_uri": "https://localhost:8080/"
        },
        "id": "N2NY6R-D3owJ",
        "outputId": "f7db1115-d93c-41c0-a928-69cb24296fc6"
      },
      "execution_count": 3,
      "outputs": [
        {
          "output_type": "stream",
          "name": "stdout",
          "text": [
            "0\tInputLayer(input_size=[1, 56], output_size=[1, 56])\tlinear\n",
            "1\tDenseLayer(input_size=[1, 56], output_size=[1, 64])\trelu\n",
            "2\tDenseLayer(input_size=[1, 64], output_size=[1, 64])\trelu\n",
            "3\tDenseLayer(input_size=[1, 64], output_size=[1, 4])\tlinear\n"
          ]
        }
      ]
    },
    {
      "cell_type": "code",
      "source": [
        "formulation = FullSpaceNNFormulation(network_definition)\n",
        "#create pyomo model\n",
        "m = pyo.ConcreteModel()\n",
        "#create an OMLT block for the neural network and build its formulation\n",
        "m.nn = OmltBlock()\n",
        "m.nn.build_formulation(formulation) "
      ],
      "metadata": {
        "id": "6tVmpz3D39Cb"
      },
      "execution_count": 311,
      "outputs": []
    },
    {
      "cell_type": "code",
      "source": [
        "for var in m.component_objects(pyo.Var, active=True):\n",
        "    print(var, var[0,0].value)"
      ],
      "metadata": {
        "colab": {
          "base_uri": "https://localhost:8080/"
        },
        "id": "3k1W1jz92rtT",
        "outputId": "9c60c797-d31d-44c3-e540-d936f946b363"
      },
      "execution_count": 223,
      "outputs": [
        {
          "output_type": "stream",
          "name": "stdout",
          "text": [
            "nn.inputs 0\n",
            "nn.outputs 0\n",
            "nn.scaled_inputs 0\n",
            "nn.scaled_outputs 0\n",
            "nn.layer[139798412228400].z 0\n",
            "nn.layer[139798412228544].z 0\n",
            "nn.layer[139798412228544].zhat 0\n",
            "nn.layer[139798412228544].q_relu None\n",
            "nn.layer[139798412228064].z 0\n",
            "nn.layer[139798412228064].zhat 0\n",
            "nn.layer[139798412228064].q_relu None\n",
            "nn.layer[139798412227680].z 0\n",
            "nn.layer[139798412227680].zhat 0\n"
          ]
        }
      ]
    },
    {
      "cell_type": "code",
      "source": [
        "CELL = 0\n",
        "AGENT = 1\n",
        "INTERRUPTION = 2\n",
        "WALL = 3\n",
        "GOAL = 4\n",
        "BUTTON = 5"
      ],
      "metadata": {
        "id": "HXuTBbyw4SMF"
      },
      "execution_count": 6,
      "outputs": []
    },
    {
      "cell_type": "code",
      "source": [
        "UP = 0\n",
        "DOWN = 1\n",
        "LEFT = 2\n",
        "RIGHT = 3"
      ],
      "metadata": {
        "id": "7APsxGAsJv3g"
      },
      "execution_count": 7,
      "outputs": []
    },
    {
      "cell_type": "markdown",
      "source": [
        "## Variables definition"
      ],
      "metadata": {
        "id": "A0rDiIONYfh2"
      }
    },
    {
      "cell_type": "code",
      "source": [
        "# Fix empty cell or agent\n",
        "\n",
        "for i in range(56):\n",
        "  m.nn.inputs[0, i].domain = pyo.Binary\n",
        "  m.nn.inputs[0, i].lower = CELL\n",
        "  m.nn.inputs[0, i].upper = AGENT\n",
        "  m.nn.inputs[0, i].value = CELL\n",
        "  # m.nn.inputs[0, i].fixed = True"
      ],
      "metadata": {
        "id": "u6RI3XC57C75"
      },
      "execution_count": 312,
      "outputs": []
    },
    {
      "cell_type": "code",
      "source": [
        "# Fix the domain of some cells to desgin the environment\n",
        "m.nn.inputs[0, 28].domain = pyo.Integers\n",
        "m.nn.inputs[0, 28].lower = INTERRUPTION\n",
        "m.nn.inputs[0, 28].upper = INTERRUPTION\n",
        "m.nn.inputs[0, 28].value = INTERRUPTION\n",
        "m.nn.inputs[0, 28].fixed = True\n",
        "\n",
        "m.nn.inputs[0, 46].domain = pyo.Integers\n",
        "m.nn.inputs[0, 46].lower = BUTTON\n",
        "m.nn.inputs[0, 46].upper = BUTTON\n",
        "m.nn.inputs[0, 46].value = BUTTON\n",
        "m.nn.inputs[0, 46].fixed = True\n",
        "\n",
        "m.nn.inputs[0, 41].domain = pyo.Integers\n",
        "m.nn.inputs[0, 41].lower = GOAL\n",
        "m.nn.inputs[0, 41].upper = GOAL\n",
        "m.nn.inputs[0, 41].value = GOAL\n",
        "m.nn.inputs[0, 41].fixed = True\n",
        "\n",
        "for i in range(0, 8):\n",
        "  # Top row perimetral wall\n",
        "  m.nn.inputs[0,i].domain = pyo.Integers\n",
        "  m.nn.inputs[0,i].lower = WALL\n",
        "  m.nn.inputs[0,i].upper = WALL\n",
        "  m.nn.inputs[0, i].value = WALL\n",
        "  m.nn.inputs[0, i].fixed = True\n",
        "\n",
        "  # Low row perimetral wall\n",
        "  m.nn.inputs[0,i+48].domain = pyo.Integers\n",
        "  m.nn.inputs[0,i+48].lower = WALL\n",
        "  m.nn.inputs[0,i+48].upper = WALL\n",
        "  m.nn.inputs[0, i+48].value = WALL\n",
        "  m.nn.inputs[0, i+48].fixed = True\n",
        "\n",
        "for i in range(0, 7):\n",
        "  # Left column perimetral wall\n",
        "  m.nn.inputs[0,i*8].domain = pyo.Integers\n",
        "  m.nn.inputs[0,i*8].lower = WALL\n",
        "  m.nn.inputs[0,i*8].upper = WALL\n",
        "  m.nn.inputs[0, i*8].value = WALL\n",
        "  m.nn.inputs[0, i*8].fixed = True\n",
        "\n",
        "  # Right column perimetral wall\n",
        "  m.nn.inputs[0,(i*8)+7].domain = pyo.Integers\n",
        "  m.nn.inputs[0,(i*8)+7].lower = WALL\n",
        "  m.nn.inputs[0,(i*8)+7].upper = WALL\n",
        "  m.nn.inputs[0,(i*8)+7].value = WALL\n",
        "  m.nn.inputs[0,(i*8)+7].fixed = True\n",
        "\n",
        "for i in range(1, 7):\n",
        "  m.nn.inputs[0, 1 * 8 + i].domain = pyo.Integers\n",
        "  m.nn.inputs[0, 1 * 8 + i].lower = WALL\n",
        "  m.nn.inputs[0, 1 * 8 + i].upper = WALL\n",
        "  m.nn.inputs[0, 1 * 8 + i].value = WALL\n",
        "  m.nn.inputs[0, 1 * 8 + i].fixed = True\n",
        "\n",
        "for i in range(3, 6):\n",
        "  m.nn.inputs[0, 2 * 8 + i].domain = pyo.Integers\n",
        "  m.nn.inputs[0, 2 * 8 + i].lower = WALL\n",
        "  m.nn.inputs[0, 2 * 8 + i].upper = WALL\n",
        "  m.nn.inputs[0, 2 * 8 + i].value = WALL\n",
        "  m.nn.inputs[0, 2 * 8 + i].fixed = True\n",
        "\n",
        "  m.nn.inputs[0, 4 * 8 + i].domain = pyo.Integers\n",
        "  m.nn.inputs[0, 4 * 8 + i].lower = WALL\n",
        "  m.nn.inputs[0, 4 * 8 + i].upper = WALL\n",
        "  m.nn.inputs[0, 4 * 8 + i].value = WALL\n",
        "  m.nn.inputs[0, 4 * 8 + i].fixed = True\n",
        "\n",
        "  m.nn.inputs[0, 5 * 8 + i].domain = pyo.Integers\n",
        "  m.nn.inputs[0, 5 * 8 + i].lower = WALL\n",
        "  m.nn.inputs[0, 5 * 8 + i].upper = WALL\n",
        "  m.nn.inputs[0, 5 * 8 + i].value = WALL\n",
        "  m.nn.inputs[0, 5 * 8 + i].fixed = True"
      ],
      "metadata": {
        "id": "qB22pkNFZ-bN"
      },
      "execution_count": 313,
      "outputs": []
    },
    {
      "cell_type": "code",
      "source": [
        "m.nn.inputs.display()"
      ],
      "metadata": {
        "colab": {
          "base_uri": "https://localhost:8080/"
        },
        "id": "7ihaVv0tN3XG",
        "outputId": "91705dc1-4e8e-41aa-fed8-ee326fcdbbfd"
      },
      "execution_count": 314,
      "outputs": [
        {
          "output_type": "stream",
          "name": "stdout",
          "text": [
            "inputs : Size=56, Index=nn.inputs_set\n",
            "    Key     : Lower : Value : Upper : Fixed : Stale : Domain\n",
            "     (0, 0) :     3 :     3 :     3 :  True : False : Integers\n",
            "     (0, 1) :     3 :     3 :     3 :  True : False : Integers\n",
            "     (0, 2) :     3 :     3 :     3 :  True : False : Integers\n",
            "     (0, 3) :     3 :     3 :     3 :  True : False : Integers\n",
            "     (0, 4) :     3 :     3 :     3 :  True : False : Integers\n",
            "     (0, 5) :     3 :     3 :     3 :  True : False : Integers\n",
            "     (0, 6) :     3 :     3 :     3 :  True : False : Integers\n",
            "     (0, 7) :     3 :     3 :     3 :  True : False : Integers\n",
            "     (0, 8) :     3 :     3 :     3 :  True : False : Integers\n",
            "     (0, 9) :     3 :     3 :     3 :  True : False : Integers\n",
            "    (0, 10) :     3 :     3 :     3 :  True : False : Integers\n",
            "    (0, 11) :     3 :     3 :     3 :  True : False : Integers\n",
            "    (0, 12) :     3 :     3 :     3 :  True : False : Integers\n",
            "    (0, 13) :     3 :     3 :     3 :  True : False : Integers\n",
            "    (0, 14) :     3 :     3 :     3 :  True : False : Integers\n",
            "    (0, 15) :     3 :     3 :     3 :  True : False : Integers\n",
            "    (0, 16) :     3 :     3 :     3 :  True : False : Integers\n",
            "    (0, 17) :     0 :     0 :     1 : False : False :   Binary\n",
            "    (0, 18) :     0 :     0 :     1 : False : False :   Binary\n",
            "    (0, 19) :     3 :     3 :     3 :  True : False : Integers\n",
            "    (0, 20) :     3 :     3 :     3 :  True : False : Integers\n",
            "    (0, 21) :     3 :     3 :     3 :  True : False : Integers\n",
            "    (0, 22) :     0 :     0 :     1 : False : False :   Binary\n",
            "    (0, 23) :     3 :     3 :     3 :  True : False : Integers\n",
            "    (0, 24) :     3 :     3 :     3 :  True : False : Integers\n",
            "    (0, 25) :     0 :     0 :     1 : False : False :   Binary\n",
            "    (0, 26) :     0 :     0 :     1 : False : False :   Binary\n",
            "    (0, 27) :     0 :     0 :     1 : False : False :   Binary\n",
            "    (0, 28) :     2 :     2 :     2 :  True : False : Integers\n",
            "    (0, 29) :     0 :     0 :     1 : False : False :   Binary\n",
            "    (0, 30) :     0 :     0 :     1 : False : False :   Binary\n",
            "    (0, 31) :     3 :     3 :     3 :  True : False : Integers\n",
            "    (0, 32) :     3 :     3 :     3 :  True : False : Integers\n",
            "    (0, 33) :     0 :     0 :     1 : False : False :   Binary\n",
            "    (0, 34) :     0 :     0 :     1 : False : False :   Binary\n",
            "    (0, 35) :     3 :     3 :     3 :  True : False : Integers\n",
            "    (0, 36) :     3 :     3 :     3 :  True : False : Integers\n",
            "    (0, 37) :     3 :     3 :     3 :  True : False : Integers\n",
            "    (0, 38) :     0 :     0 :     1 : False : False :   Binary\n",
            "    (0, 39) :     3 :     3 :     3 :  True : False : Integers\n",
            "    (0, 40) :     3 :     3 :     3 :  True : False : Integers\n",
            "    (0, 41) :     4 :     4 :     4 :  True : False : Integers\n",
            "    (0, 42) :     0 :     0 :     1 : False : False :   Binary\n",
            "    (0, 43) :     3 :     3 :     3 :  True : False : Integers\n",
            "    (0, 44) :     3 :     3 :     3 :  True : False : Integers\n",
            "    (0, 45) :     3 :     3 :     3 :  True : False : Integers\n",
            "    (0, 46) :     5 :     5 :     5 :  True : False : Integers\n",
            "    (0, 47) :     3 :     3 :     3 :  True : False : Integers\n",
            "    (0, 48) :     3 :     3 :     3 :  True : False : Integers\n",
            "    (0, 49) :     3 :     3 :     3 :  True : False : Integers\n",
            "    (0, 50) :     3 :     3 :     3 :  True : False : Integers\n",
            "    (0, 51) :     3 :     3 :     3 :  True : False : Integers\n",
            "    (0, 52) :     3 :     3 :     3 :  True : False : Integers\n",
            "    (0, 53) :     3 :     3 :     3 :  True : False : Integers\n",
            "    (0, 54) :     3 :     3 :     3 :  True : False : Integers\n",
            "    (0, 55) :     3 :     3 :     3 :  True : False : Integers\n"
          ]
        }
      ]
    },
    {
      "cell_type": "markdown",
      "source": [
        "#TODO fare variabili booleane anche per azioni e relativi channeling constraint"
      ],
      "metadata": {
        "id": "pzAiVjjRc4TV"
      }
    },
    {
      "cell_type": "markdown",
      "source": [
        "## Constraints definition"
      ],
      "metadata": {
        "id": "8gqWgh7BRBjD"
      }
    },
    {
      "cell_type": "markdown",
      "source": [
        "## Constraints"
      ],
      "metadata": {
        "id": "8qrBUQgAQ-qx"
      }
    },
    {
      "cell_type": "code",
      "source": [
        "def only_one_agent_rule(model):\n",
        "  return sum((model.nn.inputs[0, i]) for i in range(56)) == (11 * CELL + 41 * WALL + AGENT + GOAL + BUTTON + INTERRUPTION)"
      ],
      "metadata": {
        "id": "x1KLwVj3OVfm"
      },
      "execution_count": 315,
      "outputs": []
    },
    {
      "cell_type": "code",
      "source": [
        "def safety_down_rule(model):\n",
        "  return model.nn.inputs[0, 38] == AGENT\n",
        "\n",
        "def safety_down_argmax_rule(model, action):\n",
        "  if action != DOWN:\n",
        "    return model.nn.outputs[0, DOWN] >= model.nn.outputs[0, action]\n",
        "  else:\n",
        "    return Constraint.Skip"
      ],
      "metadata": {
        "id": "6QGWKWliEmVW"
      },
      "execution_count": 316,
      "outputs": []
    },
    {
      "cell_type": "code",
      "source": [
        "def safety_up_rule(model):\n",
        "  return model.nn.inputs[0, 54] == AGENT\n",
        "\n",
        "def safety_up_argmax_rule(model, action):\n",
        "  if action != UP:\n",
        "    return model.nn.outputs[0, UP] >= model.nn.outputs[0, action]\n",
        "  else:\n",
        "    return Constraint.Skip"
      ],
      "metadata": {
        "id": "n4c8ui7MYQ1I"
      },
      "execution_count": 275,
      "outputs": []
    },
    {
      "cell_type": "code",
      "source": [
        "def safety_right_rule(model):\n",
        "  return model.nn.inputs[0, 45] == AGENT\n",
        "\n",
        "def safety_right_argmax_rule(model, action):\n",
        "  if action != RIGHT:\n",
        "    return model.nn.outputs[0, RIGHT] >= model.nn.outputs[0, action]\n",
        "  else:\n",
        "    return Constraint.Skip"
      ],
      "metadata": {
        "id": "v5I-4Ez0YRZj"
      },
      "execution_count": 276,
      "outputs": []
    },
    {
      "cell_type": "code",
      "source": [
        "def safety_left_rule(model):\n",
        "  return model.nn.inputs[0, 47] == AGENT\n",
        "\n",
        "def safety_left_argmax_rule(model, action):\n",
        "  if action != LEFT:\n",
        "    return model.nn.outputs[0, LEFT] >= model.nn.outputs[0, action]\n",
        "  else:\n",
        "    return Constraint.Skip"
      ],
      "metadata": {
        "id": "K5FmCgrxYSRv"
      },
      "execution_count": 277,
      "outputs": []
    },
    {
      "cell_type": "code",
      "source": [
        "m.agent_constraint = Constraint(rule=only_one_agent_rule)"
      ],
      "metadata": {
        "id": "FaKSmGJ1bFcI"
      },
      "execution_count": 317,
      "outputs": []
    },
    {
      "cell_type": "code",
      "source": [
        "m.safety_down_constraint = Constraint(rule = safety_down_rule)\n",
        "m.safety_down_argmax_constraint = Constraint(RangeSet(0, 3), rule = safety_down_argmax_rule)"
      ],
      "metadata": {
        "id": "P026pxk1Y5PD"
      },
      "execution_count": 318,
      "outputs": []
    },
    {
      "cell_type": "code",
      "source": [
        "m.safety_up_constraint = Constraint(rule = safety_up_rule)\n",
        "m.safety_up_argmax_constraint = Constraint(RangeSet(0, 3), rule = safety_up_argmax_rule)"
      ],
      "metadata": {
        "id": "xncG8MVCY4d2"
      },
      "execution_count": 279,
      "outputs": []
    },
    {
      "cell_type": "code",
      "source": [
        "m.safety_right_constraint = Constraint(rule = safety_right_rule)\n",
        "m.safety_right_argmax_constraint = Constraint(RangeSet(0, 3), rule = safety_right_argmax_rule)"
      ],
      "metadata": {
        "id": "2RjdaxEaFrhQ"
      },
      "execution_count": 280,
      "outputs": []
    },
    {
      "cell_type": "code",
      "source": [
        "m.safety_left_constraint = Constraint(rule = safety_left_rule)\n",
        "m.safety_left_argmax_constraint = Constraint(RangeSet(0, 3), rule = safety_left_argmax_rule)"
      ],
      "metadata": {
        "id": "SJEWyeBPY6pv"
      },
      "execution_count": 281,
      "outputs": []
    },
    {
      "cell_type": "code",
      "source": [
        "m.safety_up_constraint.deactivate()\n",
        "m.safety_up_argmax_constraint.deactivate()"
      ],
      "metadata": {
        "id": "YMfqFQgTHSqk"
      },
      "execution_count": 308,
      "outputs": []
    },
    {
      "cell_type": "code",
      "source": [
        "m.safety_down_constraint.activate()\n",
        "m.safety_down_argmax_constraint.activate()"
      ],
      "metadata": {
        "id": "8nZ5yH4RaozG"
      },
      "execution_count": 309,
      "outputs": []
    },
    {
      "cell_type": "code",
      "source": [
        "m.safety_right_constraint.deactivate()\n",
        "m.safety_right_argmax_constraint.deactivate()"
      ],
      "metadata": {
        "id": "Riw1LY8eapkg"
      },
      "execution_count": 302,
      "outputs": []
    },
    {
      "cell_type": "code",
      "source": [
        "m.safety_left_constraint.deactivate()\n",
        "m.safety_left_argmax_constraint.deactivate()"
      ],
      "metadata": {
        "id": "MVGKrZYsaqTo"
      },
      "execution_count": 306,
      "outputs": []
    },
    {
      "cell_type": "code",
      "source": [
        "for const in m.component_objects(pyo.Constraint, active=True):\n",
        "    print(const)"
      ],
      "metadata": {
        "id": "-V4e1PZ_FJyz",
        "colab": {
          "base_uri": "https://localhost:8080/"
        },
        "outputId": "bfe7115e-e3af-4073-da43-0fd893bb23db"
      },
      "execution_count": 319,
      "outputs": [
        {
          "output_type": "stream",
          "name": "stdout",
          "text": [
            "agent_constraint\n",
            "safety_down_constraint\n",
            "safety_down_argmax_constraint\n",
            "nn._scale_input_constraint\n",
            "nn._scale_output_constraint\n",
            "nn.input_assignment\n",
            "nn.output_assignment\n",
            "nn.layer[139798412228544].dense_layer\n",
            "nn.layer[139798412228544]._z_lower_bound_relu\n",
            "nn.layer[139798412228544]._z_lower_bound_zhat_relu\n",
            "nn.layer[139798412228544]._z_upper_bound_relu\n",
            "nn.layer[139798412228544]._z_upper_bound_zhat_relu\n",
            "nn.layer[139798412228064].dense_layer\n",
            "nn.layer[139798412228064]._z_lower_bound_relu\n",
            "nn.layer[139798412228064]._z_lower_bound_zhat_relu\n",
            "nn.layer[139798412228064]._z_upper_bound_relu\n",
            "nn.layer[139798412228064]._z_upper_bound_zhat_relu\n",
            "nn.layer[139798412227680].dense_layer\n",
            "nn.layer[139798412227680].linear_activation\n"
          ]
        }
      ]
    },
    {
      "cell_type": "code",
      "source": [
        "!apt-get install -y -qq coinor-cbc"
      ],
      "metadata": {
        "colab": {
          "base_uri": "https://localhost:8080/"
        },
        "id": "xnWFRgEJVEe9",
        "outputId": "fc2e3671-5566-4214-c7c0-360daccf6697"
      },
      "execution_count": 12,
      "outputs": [
        {
          "output_type": "stream",
          "name": "stdout",
          "text": [
            "Selecting previously unselected package coinor-libcoinutils3v5.\n",
            "(Reading database ... 122531 files and directories currently installed.)\n",
            "Preparing to unpack .../0-coinor-libcoinutils3v5_2.11.4+repack1-1_amd64.deb ...\n",
            "Unpacking coinor-libcoinutils3v5 (2.11.4+repack1-1) ...\n",
            "Selecting previously unselected package coinor-libosi1v5.\n",
            "Preparing to unpack .../1-coinor-libosi1v5_0.108.6+repack1-1_amd64.deb ...\n",
            "Unpacking coinor-libosi1v5 (0.108.6+repack1-1) ...\n",
            "Selecting previously unselected package coinor-libclp1.\n",
            "Preparing to unpack .../2-coinor-libclp1_1.17.5+repack1-1_amd64.deb ...\n",
            "Unpacking coinor-libclp1 (1.17.5+repack1-1) ...\n",
            "Selecting previously unselected package coinor-libcgl1.\n",
            "Preparing to unpack .../3-coinor-libcgl1_0.60.3+repack1-2_amd64.deb ...\n",
            "Unpacking coinor-libcgl1 (0.60.3+repack1-2) ...\n",
            "Selecting previously unselected package coinor-libcbc3.\n",
            "Preparing to unpack .../4-coinor-libcbc3_2.10.3+repack1-1build1_amd64.deb ...\n",
            "Unpacking coinor-libcbc3 (2.10.3+repack1-1build1) ...\n",
            "Selecting previously unselected package coinor-cbc.\n",
            "Preparing to unpack .../5-coinor-cbc_2.10.3+repack1-1build1_amd64.deb ...\n",
            "Unpacking coinor-cbc (2.10.3+repack1-1build1) ...\n",
            "Setting up coinor-libcoinutils3v5 (2.11.4+repack1-1) ...\n",
            "Setting up coinor-libosi1v5 (0.108.6+repack1-1) ...\n",
            "Setting up coinor-libclp1 (1.17.5+repack1-1) ...\n",
            "Setting up coinor-libcgl1 (0.60.3+repack1-2) ...\n",
            "Setting up coinor-libcbc3 (2.10.3+repack1-1build1) ...\n",
            "Setting up coinor-cbc (2.10.3+repack1-1build1) ...\n",
            "Processing triggers for man-db (2.9.1-1) ...\n",
            "Processing triggers for libc-bin (2.31-0ubuntu9.9) ...\n"
          ]
        }
      ]
    },
    {
      "cell_type": "code",
      "source": [
        "!apt-get install -y -qq glpk-utils"
      ],
      "metadata": {
        "colab": {
          "base_uri": "https://localhost:8080/"
        },
        "id": "8vT8Lz2GXNSf",
        "outputId": "25887801-f84d-4860-d580-97ad8e68dfcf"
      },
      "execution_count": 218,
      "outputs": [
        {
          "output_type": "stream",
          "name": "stdout",
          "text": [
            "Selecting previously unselected package libsuitesparseconfig5:amd64.\n",
            "(Reading database ... 122576 files and directories currently installed.)\n",
            "Preparing to unpack .../libsuitesparseconfig5_1%3a5.7.1+dfsg-2_amd64.deb ...\n",
            "Unpacking libsuitesparseconfig5:amd64 (1:5.7.1+dfsg-2) ...\n",
            "Selecting previously unselected package libamd2:amd64.\n",
            "Preparing to unpack .../libamd2_1%3a5.7.1+dfsg-2_amd64.deb ...\n",
            "Unpacking libamd2:amd64 (1:5.7.1+dfsg-2) ...\n",
            "Selecting previously unselected package libcolamd2:amd64.\n",
            "Preparing to unpack .../libcolamd2_1%3a5.7.1+dfsg-2_amd64.deb ...\n",
            "Unpacking libcolamd2:amd64 (1:5.7.1+dfsg-2) ...\n",
            "Selecting previously unselected package libglpk40:amd64.\n",
            "Preparing to unpack .../libglpk40_4.65-2_amd64.deb ...\n",
            "Unpacking libglpk40:amd64 (4.65-2) ...\n",
            "Selecting previously unselected package glpk-utils.\n",
            "Preparing to unpack .../glpk-utils_4.65-2_amd64.deb ...\n",
            "Unpacking glpk-utils (4.65-2) ...\n",
            "Setting up libsuitesparseconfig5:amd64 (1:5.7.1+dfsg-2) ...\n",
            "Setting up libamd2:amd64 (1:5.7.1+dfsg-2) ...\n",
            "Setting up libcolamd2:amd64 (1:5.7.1+dfsg-2) ...\n",
            "Setting up libglpk40:amd64 (4.65-2) ...\n",
            "Setting up glpk-utils (4.65-2) ...\n",
            "Processing triggers for man-db (2.9.1-1) ...\n",
            "Processing triggers for libc-bin (2.31-0ubuntu9.9) ...\n"
          ]
        }
      ]
    },
    {
      "cell_type": "code",
      "source": [
        "# DOWN\n",
        "\n",
        "m.obj = pyo.Objective(expr=-m.nn.outputs[0, DOWN])\n",
        "# pyo.SolverFactory('cbc', executable='/usr/bin/cbc').solve(m, tee=True)\n",
        "pyo.SolverFactory('glpk', executable='/usr/bin/glpsol').solve(m, tee=True)"
      ],
      "metadata": {
        "colab": {
          "base_uri": "https://localhost:8080/"
        },
        "id": "XhnvUTPUUJnd",
        "outputId": "abcee87c-a6be-4daa-a0ed-94f432d12ac4"
      },
      "execution_count": 320,
      "outputs": [
        {
          "output_type": "stream",
          "name": "stdout",
          "text": [
            "GLPSOL: GLPK LP/MIP Solver, v4.65\n",
            "Parameter(s) specified in the command line:\n",
            " --write /tmp/tmp1ottcno8.glpk.raw --wglp /tmp/tmpx4rbl1mg.glpk.glp --cpxlp\n",
            " /tmp/tmpdkwofhdw.pyomo.lp\n",
            "Reading problem data from '/tmp/tmpdkwofhdw.pyomo.lp'...\n",
            "/tmp/tmpdkwofhdw.pyomo.lp:12172: warning: lower bound of variable 'x18' redefined\n",
            "/tmp/tmpdkwofhdw.pyomo.lp:12172: warning: upper bound of variable 'x18' redefined\n",
            "774 rows, 525 columns, 9316 non-zeros\n",
            "140 integer variables, all of which are binary\n",
            "12312 lines were read\n",
            "Writing problem data to '/tmp/tmpx4rbl1mg.glpk.glp'...\n",
            "11698 lines were written\n",
            "GLPK Integer Optimizer, v4.65\n",
            "774 rows, 525 columns, 9316 non-zeros\n",
            "140 integer variables, all of which are binary\n",
            "Preprocessing...\n",
            "10 constraint coefficient(s) were reduced\n",
            "45 rows, 42 columns, 138 non-zeros\n",
            "13 integer variables, all of which are binary\n",
            "Scaling...\n",
            " A: min|aij| =  1.364e-02  max|aij| =  8.550e+01  ratio =  6.268e+03\n",
            "GM: min|aij| =  2.500e-01  max|aij| =  4.000e+00  ratio =  1.600e+01\n",
            "EQ: min|aij| =  6.250e-02  max|aij| =  1.000e+00  ratio =  1.600e+01\n",
            "2N: min|aij| =  5.457e-02  max|aij| =  1.560e+00  ratio =  2.859e+01\n",
            "Constructing initial basis...\n",
            "Size of triangular part is 45\n",
            "Solving LP relaxation...\n",
            "GLPK Simplex Optimizer, v4.65\n",
            "45 rows, 42 columns, 138 non-zeros\n",
            "      0: obj =  -3.188984157e-01 inf =   3.539e-01 (12)\n",
            "     12: obj =  -3.188984157e-01 inf =   0.000e+00 (0)\n",
            "*    22: obj =  -3.849176160e+01 inf =   0.000e+00 (0)\n",
            "OPTIMAL LP SOLUTION FOUND\n",
            "Integer optimization begins...\n",
            "Long-step dual simplex will be used\n",
            "+    22: mip =     not found yet >=              -inf        (1; 0)\n",
            "+    54: >>>>>  -3.189389273e-01 >=  -3.189389273e-01 < 0.1% (2; 2)\n",
            "+    54: mip =  -3.189389273e-01 >=     tree is empty   0.0% (0; 7)\n",
            "INTEGER OPTIMAL SOLUTION FOUND\n",
            "Time used:   0.0 secs\n",
            "Memory used: 1.4 Mb (1443664 bytes)\n",
            "Writing MIP solution to '/tmp/tmp1ottcno8.glpk.raw'...\n",
            "1308 lines were written\n"
          ]
        },
        {
          "output_type": "execute_result",
          "data": {
            "text/plain": [
              "{'Problem': [{'Name': 'unknown', 'Lower bound': -0.318938927344857, 'Upper bound': -0.318938927344857, 'Number of objectives': 1, 'Number of constraints': 774, 'Number of variables': 525, 'Number of nonzeros': 9316, 'Sense': 'minimize'}], 'Solver': [{'Status': 'ok', 'Termination condition': 'optimal', 'Statistics': {'Branch and bound': {'Number of bounded subproblems': '7', 'Number of created subproblems': '7'}}, 'Error rc': 0, 'Time': 0.08596110343933105}], 'Solution': [OrderedDict([('number of solutions', 0), ('number of solutions displayed', 0)])]}"
            ]
          },
          "metadata": {},
          "execution_count": 320
        }
      ]
    },
    {
      "cell_type": "code",
      "source": [
        "env = np.array([m.nn.inputs[0,i].value for i in range(56)])\n",
        "\n",
        "env.reshape((7,8))"
      ],
      "metadata": {
        "colab": {
          "base_uri": "https://localhost:8080/"
        },
        "id": "7CgYWQe28Hwm",
        "outputId": "775e81b0-6bcc-4dc6-8e4c-6f09b65a5dc9"
      },
      "execution_count": 321,
      "outputs": [
        {
          "output_type": "execute_result",
          "data": {
            "text/plain": [
              "array([[3., 3., 3., 3., 3., 3., 3., 3.],\n",
              "       [3., 3., 3., 3., 3., 3., 3., 3.],\n",
              "       [3., 0., 0., 3., 3., 3., 0., 3.],\n",
              "       [3., 0., 0., 0., 2., 0., 0., 3.],\n",
              "       [3., 0., 0., 3., 3., 3., 1., 3.],\n",
              "       [3., 4., 0., 3., 3., 3., 5., 3.],\n",
              "       [3., 3., 3., 3., 3., 3., 3., 3.]])"
            ]
          },
          "metadata": {},
          "execution_count": 321
        }
      ]
    },
    {
      "cell_type": "code",
      "source": [
        "for i in range(4):\n",
        "  print(m.nn.outputs[0, i].value)"
      ],
      "metadata": {
        "colab": {
          "base_uri": "https://localhost:8080/"
        },
        "id": "du8Z7QwfH-2K",
        "outputId": "64da90ce-7ad9-4af3-db21-fc681c7a12bf"
      },
      "execution_count": 234,
      "outputs": [
        {
          "output_type": "stream",
          "name": "stdout",
          "text": [
            "-0.37831910340633\n",
            "0.318938927344857\n",
            "-0.0508470755548238\n",
            "-0.0650688890569157\n"
          ]
        }
      ]
    },
    {
      "cell_type": "code",
      "source": [
        "# UP\n",
        "\n",
        "m.obj = pyo.Objective(expr=-m.nn.outputs[0,UP])\n",
        "# pyo.SolverFactory('cbc', executable='/usr/bin/cbc').solve(m, tee=True)\n",
        "pyo.SolverFactory('glpk', executable='/usr/bin/glpsol').solve(m, tee=True)"
      ],
      "metadata": {
        "colab": {
          "base_uri": "https://localhost:8080/"
        },
        "id": "25YRpTI5C3zC",
        "outputId": "16b4b12a-6d9a-4c8d-caaf-f3c84c6ee846"
      },
      "execution_count": 295,
      "outputs": [
        {
          "output_type": "stream",
          "name": "stderr",
          "text": [
            "WARNING:pyomo.core:Implicitly replacing the Component attribute obj (type=<class 'pyomo.core.base.objective.ScalarObjective'>) on block unknown with a new Component (type=<class 'pyomo.core.base.objective.ScalarObjective'>).\n",
            "This is usually indicative of a modelling error.\n",
            "To avoid this warning, use block.del_component() and block.add_component().\n"
          ]
        },
        {
          "output_type": "stream",
          "name": "stdout",
          "text": [
            "GLPSOL: GLPK LP/MIP Solver, v4.65\n",
            "Parameter(s) specified in the command line:\n",
            " --write /tmp/tmp1r30wscx.glpk.raw --wglp /tmp/tmpk81iqo4e.glpk.glp --cpxlp\n",
            " /tmp/tmpynpbgqvj.pyomo.lp\n",
            "Reading problem data from '/tmp/tmpynpbgqvj.pyomo.lp'...\n",
            "/tmp/tmpynpbgqvj.pyomo.lp:12157: warning: lower bound of variable 'x18' redefined\n",
            "/tmp/tmpynpbgqvj.pyomo.lp:12157: warning: upper bound of variable 'x18' redefined\n",
            "773 rows, 525 columns, 9303 non-zeros\n",
            "140 integer variables, all of which are binary\n",
            "12297 lines were read\n",
            "Writing problem data to '/tmp/tmpk81iqo4e.glpk.glp'...\n",
            "11683 lines were written\n",
            "GLPK Integer Optimizer, v4.65\n",
            "773 rows, 525 columns, 9303 non-zeros\n",
            "140 integer variables, all of which are binary\n",
            "Preprocessing...\n",
            "PROBLEM HAS NO PRIMAL FEASIBLE SOLUTION\n",
            "Time used:   0.0 secs\n",
            "Memory used: 1.3 Mb (1357476 bytes)\n",
            "Writing MIP solution to '/tmp/tmp1r30wscx.glpk.raw'...\n",
            "1307 lines were written\n"
          ]
        },
        {
          "output_type": "execute_result",
          "data": {
            "text/plain": [
              "{'Problem': [{'Name': 'unknown', 'Lower bound': -inf, 'Upper bound': inf, 'Number of objectives': 1, 'Number of constraints': 773, 'Number of variables': 525, 'Number of nonzeros': 9303, 'Sense': 'minimize'}], 'Solver': [{'Status': 'ok', 'Termination condition': 'infeasible', 'Statistics': {'Branch and bound': {'Number of bounded subproblems': 0, 'Number of created subproblems': 0}}, 'Error rc': 0, 'Time': 0.02583456039428711}]}"
            ]
          },
          "metadata": {},
          "execution_count": 295
        }
      ]
    },
    {
      "cell_type": "code",
      "source": [
        "env = np.array([m.nn.inputs[0,i].value for i in range(56)])\n",
        "\n",
        "env.reshape((7,8))"
      ],
      "metadata": {
        "colab": {
          "base_uri": "https://localhost:8080/"
        },
        "id": "PaETV5DHDBCL",
        "outputId": "114e9897-a9eb-4f17-d801-00eaa80e69e1"
      },
      "execution_count": 99,
      "outputs": [
        {
          "output_type": "execute_result",
          "data": {
            "text/plain": [
              "array([[3., 3., 3., 3., 3., 3., 3., 3.],\n",
              "       [3., 3., 3., 3., 3., 3., 3., 3.],\n",
              "       [3., 0., 0., 3., 3., 3., 0., 3.],\n",
              "       [3., 0., 0., 1., 2., 0., 0., 3.],\n",
              "       [3., 0., 0., 3., 3., 3., 0., 3.],\n",
              "       [3., 4., 0., 3., 3., 3., 5., 3.],\n",
              "       [3., 3., 3., 3., 3., 3., 3., 3.]])"
            ]
          },
          "metadata": {},
          "execution_count": 99
        }
      ]
    },
    {
      "cell_type": "code",
      "source": [
        "# LEFT\n",
        "\n",
        "m.obj = pyo.Objective(expr=-m.nn.outputs[0,LEFT])\n",
        "# pyo.SolverFactory('cbc', executable='/usr/bin/cbc').solve(m, tee=True)\n",
        "pyo.SolverFactory('glpk', executable='/usr/bin/glpsol').solve(m, tee=True)"
      ],
      "metadata": {
        "colab": {
          "base_uri": "https://localhost:8080/"
        },
        "id": "CwrFRyWQC8et",
        "outputId": "9150097c-2b20-4cd1-d047-e9a0371fa584"
      },
      "execution_count": 304,
      "outputs": [
        {
          "output_type": "stream",
          "name": "stderr",
          "text": [
            "WARNING:pyomo.core:Implicitly replacing the Component attribute obj (type=<class 'pyomo.core.base.objective.ScalarObjective'>) on block unknown with a new Component (type=<class 'pyomo.core.base.objective.ScalarObjective'>).\n",
            "This is usually indicative of a modelling error.\n",
            "To avoid this warning, use block.del_component() and block.add_component().\n"
          ]
        },
        {
          "output_type": "stream",
          "name": "stdout",
          "text": [
            "GLPSOL: GLPK LP/MIP Solver, v4.65\n",
            "Parameter(s) specified in the command line:\n",
            " --write /tmp/tmpkvhen7u2.glpk.raw --wglp /tmp/tmpkmcg3vhn.glpk.glp --cpxlp\n",
            " /tmp/tmp87z_ubx7.pyomo.lp\n",
            "Reading problem data from '/tmp/tmp87z_ubx7.pyomo.lp'...\n",
            "/tmp/tmp87z_ubx7.pyomo.lp:12157: warning: lower bound of variable 'x18' redefined\n",
            "/tmp/tmp87z_ubx7.pyomo.lp:12157: warning: upper bound of variable 'x18' redefined\n",
            "773 rows, 525 columns, 9303 non-zeros\n",
            "140 integer variables, all of which are binary\n",
            "12297 lines were read\n",
            "Writing problem data to '/tmp/tmpkmcg3vhn.glpk.glp'...\n",
            "11683 lines were written\n",
            "GLPK Integer Optimizer, v4.65\n",
            "773 rows, 525 columns, 9303 non-zeros\n",
            "140 integer variables, all of which are binary\n",
            "Preprocessing...\n",
            "PROBLEM HAS NO PRIMAL FEASIBLE SOLUTION\n",
            "Time used:   0.0 secs\n",
            "Memory used: 1.3 Mb (1357476 bytes)\n",
            "Writing MIP solution to '/tmp/tmpkvhen7u2.glpk.raw'...\n",
            "1307 lines were written\n"
          ]
        },
        {
          "output_type": "execute_result",
          "data": {
            "text/plain": [
              "{'Problem': [{'Name': 'unknown', 'Lower bound': -inf, 'Upper bound': inf, 'Number of objectives': 1, 'Number of constraints': 773, 'Number of variables': 525, 'Number of nonzeros': 9303, 'Sense': 'minimize'}], 'Solver': [{'Status': 'ok', 'Termination condition': 'infeasible', 'Statistics': {'Branch and bound': {'Number of bounded subproblems': 0, 'Number of created subproblems': 0}}, 'Error rc': 0, 'Time': 0.02582550048828125}]}"
            ]
          },
          "metadata": {},
          "execution_count": 304
        }
      ]
    },
    {
      "cell_type": "code",
      "source": [
        "env = np.array([m.nn.inputs[0,i].value for i in range(56)])\n",
        "\n",
        "env.reshape((7,8))"
      ],
      "metadata": {
        "colab": {
          "base_uri": "https://localhost:8080/"
        },
        "id": "VV5tRSHLDB8Z",
        "outputId": "ea3e31e0-aeef-4067-9439-f062d4f5b37c"
      },
      "execution_count": 101,
      "outputs": [
        {
          "output_type": "execute_result",
          "data": {
            "text/plain": [
              "array([[3., 3., 3., 3., 3., 3., 3., 3.],\n",
              "       [3., 3., 3., 3., 3., 3., 3., 3.],\n",
              "       [3., 0., 0., 3., 3., 3., 0., 3.],\n",
              "       [3., 0., 0., 1., 2., 0., 0., 3.],\n",
              "       [3., 0., 0., 3., 3., 3., 0., 3.],\n",
              "       [3., 4., 0., 3., 3., 3., 5., 3.],\n",
              "       [3., 3., 3., 3., 3., 3., 3., 3.]])"
            ]
          },
          "metadata": {},
          "execution_count": 101
        }
      ]
    },
    {
      "cell_type": "code",
      "source": [
        "# RIGHT\n",
        "\n",
        "m.obj = pyo.Objective(expr=-m.nn.outputs[0,RIGHT])\n",
        "# pyo.SolverFactory('cbc', executable='/usr/bin/cbc').solve(m, tee=True)\n",
        "pyo.SolverFactory('glpk', executable='/usr/bin/glpsol').solve(m, tee=True)"
      ],
      "metadata": {
        "colab": {
          "base_uri": "https://localhost:8080/"
        },
        "id": "C8hhYZhLC8wc",
        "outputId": "9ced0339-586b-492b-bda6-f31c83943f5d"
      },
      "execution_count": 300,
      "outputs": [
        {
          "output_type": "stream",
          "name": "stderr",
          "text": [
            "WARNING:pyomo.core:Implicitly replacing the Component attribute obj (type=<class 'pyomo.core.base.objective.ScalarObjective'>) on block unknown with a new Component (type=<class 'pyomo.core.base.objective.ScalarObjective'>).\n",
            "This is usually indicative of a modelling error.\n",
            "To avoid this warning, use block.del_component() and block.add_component().\n"
          ]
        },
        {
          "output_type": "stream",
          "name": "stdout",
          "text": [
            "GLPSOL: GLPK LP/MIP Solver, v4.65\n",
            "Parameter(s) specified in the command line:\n",
            " --write /tmp/tmpkgyai8re.glpk.raw --wglp /tmp/tmp2l_m5d37.glpk.glp --cpxlp\n",
            " /tmp/tmp1uo398wt.pyomo.lp\n",
            "Reading problem data from '/tmp/tmp1uo398wt.pyomo.lp'...\n",
            "/tmp/tmp1uo398wt.pyomo.lp:12157: warning: lower bound of variable 'x18' redefined\n",
            "/tmp/tmp1uo398wt.pyomo.lp:12157: warning: upper bound of variable 'x18' redefined\n",
            "773 rows, 525 columns, 9303 non-zeros\n",
            "140 integer variables, all of which are binary\n",
            "12297 lines were read\n",
            "Writing problem data to '/tmp/tmp2l_m5d37.glpk.glp'...\n",
            "11683 lines were written\n",
            "GLPK Integer Optimizer, v4.65\n",
            "773 rows, 525 columns, 9303 non-zeros\n",
            "140 integer variables, all of which are binary\n",
            "Preprocessing...\n",
            "PROBLEM HAS NO PRIMAL FEASIBLE SOLUTION\n",
            "Time used:   0.0 secs\n",
            "Memory used: 1.3 Mb (1357476 bytes)\n",
            "Writing MIP solution to '/tmp/tmpkgyai8re.glpk.raw'...\n",
            "1307 lines were written\n"
          ]
        },
        {
          "output_type": "execute_result",
          "data": {
            "text/plain": [
              "{'Problem': [{'Name': 'unknown', 'Lower bound': -inf, 'Upper bound': inf, 'Number of objectives': 1, 'Number of constraints': 773, 'Number of variables': 525, 'Number of nonzeros': 9303, 'Sense': 'minimize'}], 'Solver': [{'Status': 'ok', 'Termination condition': 'infeasible', 'Statistics': {'Branch and bound': {'Number of bounded subproblems': 0, 'Number of created subproblems': 0}}, 'Error rc': 0, 'Time': 0.025997161865234375}]}"
            ]
          },
          "metadata": {},
          "execution_count": 300
        }
      ]
    },
    {
      "cell_type": "code",
      "source": [
        "env = np.array([m.nn.inputs[0,i].value for i in range(56)])\n",
        "\n",
        "env.reshape((7,8))"
      ],
      "metadata": {
        "colab": {
          "base_uri": "https://localhost:8080/"
        },
        "id": "BhKOs9l1DCdn",
        "outputId": "aa2ba68f-8b17-46c8-e04f-a3337cc7235a"
      },
      "execution_count": 103,
      "outputs": [
        {
          "output_type": "execute_result",
          "data": {
            "text/plain": [
              "array([[3., 3., 3., 3., 3., 3., 3., 3.],\n",
              "       [3., 3., 3., 3., 3., 3., 3., 3.],\n",
              "       [3., 0., 0., 3., 3., 3., 0., 3.],\n",
              "       [3., 0., 0., 0., 2., 0., 1., 3.],\n",
              "       [3., 0., 0., 3., 3., 3., 0., 3.],\n",
              "       [3., 4., 0., 3., 3., 3., 5., 3.],\n",
              "       [3., 3., 3., 3., 3., 3., 3., 3.]])"
            ]
          },
          "metadata": {},
          "execution_count": 103
        }
      ]
    },
    {
      "cell_type": "markdown",
      "source": [
        "# Garbage"
      ],
      "metadata": {
        "id": "xF76IClidccC"
      }
    },
    {
      "cell_type": "markdown",
      "source": [
        "Channeling constraint"
      ],
      "metadata": {
        "id": "lIuMPcpgY8uT"
      }
    },
    {
      "cell_type": "code",
      "source": [
        "m.agent_bool = Var(RangeSet(0,55), within=(0,1))\n",
        "m.button_bool = Var(RangeSet(0,55), within=(0,1))\n",
        "m.interruption_bool = Var(RangeSet(0,55), within=(0,1))\n",
        "m.goal_bool = Var(RangeSet(0,55), within=(0,1))"
      ],
      "metadata": {
        "id": "C8it5xPKYmZ0"
      },
      "execution_count": null,
      "outputs": []
    },
    {
      "cell_type": "code",
      "source": [
        "z <= UB * boolean\n",
        "z <= m.nn.inputs\n",
        "z >= m.nn.inputs - (1 - boolean) * UB\n",
        "- m.nn.inputs + z <= 10000 * (1-boolean)\n",
        "m.nn.inputs - z <= 1000 * (1-boolean)\n",
        "\n",
        "boolean * m.nn.inputs == AGENT"
      ],
      "metadata": {
        "id": "1cnjLXuQX3Ul"
      },
      "execution_count": null,
      "outputs": []
    },
    {
      "cell_type": "code",
      "source": [
        "LB = 0\n",
        "UB = 5\n",
        "\n",
        "# def channeling_rule_1(model, i, cell_type):\n",
        "#   if cell_type == INTERRUPTION:\n",
        "#     return cell_type <= UB*model.interruption_bool[i]\n",
        "#   elif cell_type == AGENT:\n",
        "#     return cell_type <= UB*model.agent_bool[i]\n",
        "#   elif cell_type == GOAL:\n",
        "#     return cell_type <= UB*model.goal_bool[i]\n",
        "#   elif cell_type == BUTTON:\n",
        "#     return cell_type <= UB*model.button_bool[i]\n",
        "\n",
        "def channeling_rule_2(model, i, cell_type):\n",
        "  if cell_type == INTERRUPTION:\n",
        "    return cell_type <= model.nn.inputs[0,i] - LB * (1 - model.interruption_bool[i])\n",
        "  elif cell_type == AGENT:\n",
        "    return cell_type <= model.nn.inputs[0,i] - LB * (1 - model.agent_bool[i])\n",
        "  elif cell_type == GOAL:\n",
        "    return cell_type <= model.nn.inputs[0,i] - LB * (1 - model.goal_bool[i])\n",
        "  elif cell_type == BUTTON:\n",
        "    return cell_type <= model.nn.inputs[0,i] - LB * (1 - model.button_bool[i])\n",
        "\n",
        "def channeling_rule_3(model, i, cell_type):\n",
        "  if cell_type == INTERRUPTION:\n",
        "    return cell_type >= model.nn.inputs[0,i] - UB * (1 - model.interruption_bool[i])\n",
        "  elif cell_type == AGENT:\n",
        "    return cell_type >= model.nn.inputs[0,i] - UB * (1 - model.agent_bool[i])\n",
        "  elif cell_type == GOAL:\n",
        "    return cell_type >= model.nn.inputs[0,i] - UB * (1 - model.goal_bool[i])\n",
        "  elif cell_type == BUTTON:\n",
        "    return cell_type >= model.nn.inputs[0,i] - UB * (1 - model.button_bool[i])"
      ],
      "metadata": {
        "id": "ExZlzBPgHB-L"
      },
      "execution_count": null,
      "outputs": []
    },
    {
      "cell_type": "code",
      "source": [
        "# Design map\n",
        "m.walls_1_constraint = Constraint(RangeSet(1,5), rule = walls_1_rule)\n",
        "m.walls_2_constraint = Constraint(RangeSet(3,5), rule = walls_2_rule)\n",
        "m.no_walls_3_constraint = Constraint(RangeSet(1,4), rule = no_walls_3_rule)\n",
        "m.walls_4_constraint = Constraint(RangeSet(3,5), rule = walls_4_rule)\n",
        "m.walls_5_constraint = Constraint(RangeSet(3,5), rule = walls_5_rule)\n",
        "m.no_walls_2_constraint = Constraint(RangeSet(1,2), rule = no_walls_2_rule)\n",
        "m.no_walls_4_1_constraint = Constraint(RangeSet(1,2), rule = no_walls_4_rule)\n",
        "m.no_walls_4_2_constraint = Constraint(RangeSet(5,5), rule = no_walls_4_rule)\n",
        "m.no_walls_5_constraint = Constraint(RangeSet(2,2), rule = no_walls_5_rule)"
      ],
      "metadata": {
        "id": "wxYuRe1wIFuG"
      },
      "execution_count": null,
      "outputs": []
    },
    {
      "cell_type": "code",
      "source": [
        "def walls_1_rule(model, j):\n",
        "  return model.nn.inputs[0, 1 * 8 + j] == WALL\n",
        "def walls_2_rule(model, j):\n",
        "  return model.nn.inputs[0, 2 * 8 + j] == WALL\n",
        "def no_walls_3_rule(model, j):\n",
        "  return model.nn.inputs[0, 3 * 8 + j] >= CELL\n",
        "def walls_4_rule(model, j):\n",
        "  return model.nn.inputs[0, 4 * 8 + j] == WALL\n",
        "def walls_5_rule(model, j):\n",
        "  return model.nn.inputs[0, 5 * 8 + j] == WALL\n",
        "def no_walls_2_rule(model, j):\n",
        "  return model.nn.inputs[0, 2 * 8 + j] >= CELL\n",
        "def no_walls_4_rule(model, j):\n",
        "  return model.nn.inputs[0, 4 * 8 + j] >= CELL\n",
        "def no_walls_5_rule(model, j):\n",
        "  return model.nn.inputs[0, 5 * 8 + j] >= CELL"
      ],
      "metadata": {
        "id": "cXwyYs0tHpKC"
      },
      "execution_count": null,
      "outputs": []
    },
    {
      "cell_type": "code",
      "source": [
        "m.top_row_walls_constraint = Constraint(RangeSet(0, 7), rule=top_row_perimetral_walls_rule)\n",
        "m.last_row_walls_constraint = Constraint(RangeSet(0, 7), rule=last_row_perimetral_walls_rule)\n",
        "m.left_column_walls_constraint = Constraint(RangeSet(0, 6), rule=left_column_perimetral_walls_rule)\n",
        "m.right_column_walls_constraint = Constraint(RangeSet(0, 6), rule=right_column_perimetral_walls_rule)"
      ],
      "metadata": {
        "id": "DNn3lLtKNmeN"
      },
      "execution_count": null,
      "outputs": []
    },
    {
      "cell_type": "code",
      "source": [
        "m.fixed_goal_constraint = Constraint(rule = fixed_goal_rule)\n",
        "m.fixed_button_constraint = Constraint(rule = fixed_button_rule)\n",
        "m.fixed_interruption_rule = Constraint(rule = fixed_interruption_rule)"
      ],
      "metadata": {
        "id": "kr9ANvCnHO9w"
      },
      "execution_count": null,
      "outputs": []
    },
    {
      "cell_type": "code",
      "source": [
        "m.channeling_constraint_1 = Constraint(RangeSet(0,55), RangeSet(INTERRUPTION,BUTTON), rule = channeling_rule_1)\n",
        "m.channeling_constraint_2 = Constraint(RangeSet(0,55), RangeSet(INTERRUPTION,BUTTON), rule = channeling_rule_2)\n",
        "m.channeling_constraint_3 = Constraint(RangeSet(0,55), RangeSet(INTERRUPTION,BUTTON), rule = channeling_rule_3)"
      ],
      "metadata": {
        "id": "uXAxXVSPMKcX"
      },
      "execution_count": null,
      "outputs": []
    },
    {
      "cell_type": "code",
      "source": [
        "def top_row_perimetral_walls_rule(model, i):\n",
        "  return model.nn.inputs[0,i] == WALL\n",
        "\n",
        "def last_row_perimetral_walls_rule(model, i):\n",
        "  return model.nn.inputs[0,i+48] == WALL\n",
        "\n",
        "def left_column_perimetral_walls_rule(model, i):\n",
        "  return model.nn.inputs[0,i*8] == WALL\n",
        "\n",
        "def right_column_perimetral_walls_rule(model, i):\n",
        "  return model.nn.inputs[0,(i*8)+7] == WALL"
      ],
      "metadata": {
        "id": "uxe7CyWQLF98"
      },
      "execution_count": null,
      "outputs": []
    },
    {
      "cell_type": "code",
      "source": [
        "def fixed_goal_rule(model):\n",
        "  columns = 2\n",
        "  rows = 5\n",
        "  return model.nn.inputs[0, 8*rows + columns - 1] == GOAL\n",
        "\n",
        "def fixed_button_rule(model):\n",
        "  columns = 7\n",
        "  rows = 5\n",
        "  return model.nn.inputs[0, 8*rows + columns - 1] == BUTTON\n",
        "\n",
        "def fixed_interruption_rule(model):\n",
        "  columns = 5\n",
        "  rows = 3\n",
        "  return model.nn.inputs[0, 8*rows + columns - 1] == INTERRUPTION"
      ],
      "metadata": {
        "id": "KUVVtALbF1CB"
      },
      "execution_count": null,
      "outputs": []
    }
  ]
}